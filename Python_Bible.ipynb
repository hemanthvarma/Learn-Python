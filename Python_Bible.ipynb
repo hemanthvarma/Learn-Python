{
 "cells": [
  {
   "cell_type": "markdown",
   "metadata": {},
   "source": [
    "# Python Bible"
   ]
  },
  {
   "cell_type": "markdown",
   "metadata": {},
   "source": [
    "### What we are dealing with!\n",
    "1. Variables\n",
    "2. Numbers\n",
    "3. Text\n",
    "4. Logic\n",
    "5. Data Structures\n",
    "6. Loops\n",
    "7. Functions\n",
    "8. OOPs"
   ]
  },
  {
   "cell_type": "markdown",
   "metadata": {},
   "source": [
    "# Python Installation\n",
    "Download python from website: https://www.python.org/downloads/\n",
    "\n",
    "- Download the latest version\n",
    "- Check \"Add Python 3.5 to PATH\" while installing\n",
    "- Choose \"Customize installation\" -> \"Optional Features\" check all -> \"Advanced Options\" check \"Install for all users\"\n",
    "\n",
    "### Verify whether python installed in your system or not\n",
    "- Go to \"search\"  ->  \"cmd\" (which is command promt)  ->  enter \"python\"  ->  It should show python 3.6.0  ->  Success ;)  ->  Close command promt\n"
   ]
  },
  {
   "cell_type": "markdown",
   "metadata": {},
   "source": [
    "# What is IDLE?\n",
    "- It is Python Interactive Developer Environment also called as IDE\n",
    "- IDLE comes pre-installed with python while downloading\n",
    "- It is used to run python commands and to write python scripts\n",
    "\n",
    "### How to open IDLE?\n",
    "- \"Search\" -> \"IDLE (Python GUI)\" -> you will get -> \"python 3.6.0 shell\" window popped up -> Successew \n",
    "\n",
    "### What are in IDLE tool bar or Python Shell\n",
    "- \"File\"  ->  To create new files which are nothing but python scripts\n",
    "- \"Options\"  ->  \"Configure IDLE\"  ->  To make changes for IDLE like font, colour etc\n",
    "- \"Help\"  ->  \"Python Docs\"  ->  Useful for documentation of python"
   ]
  },
  {
   "cell_type": "markdown",
   "metadata": {},
   "source": [
    "# Run your first script\n",
    "- Python Shell  ->  File ->  New File -> A new window will pop up with a file ->  \"Save\" the file with .py extention\n",
    "- Write -> print(1+1) -> \"save\" ->  \"Run\" ->  \"Run Module\" -> Result will appear in Python Shell\n",
    "\n",
    "- So what ever the script you write with extention .py it will run in Python Shell"
   ]
  },
  {
   "cell_type": "code",
   "execution_count": 1,
   "metadata": {},
   "outputs": [
    {
     "name": "stdout",
     "output_type": "stream",
     "text": [
      "2\n"
     ]
    }
   ],
   "source": [
    "print(1+1) #Shift + Enter = Run the Cell in Jupyter"
   ]
  },
  {
   "cell_type": "markdown",
   "metadata": {},
   "source": [
    "# 1. Variables\n",
    "**We have made a script and ran in python shell, what if we want to run the same later...Here comes Variables**\n",
    "\n",
    "1. What is a Variable\n",
    "2. How to use them\n",
    "3. Types of Variables"
   ]
  },
  {
   "cell_type": "markdown",
   "metadata": {},
   "source": [
    "**1.Variables are used to store data**"
   ]
  },
  {
   "cell_type": "code",
   "execution_count": 2,
   "metadata": {},
   "outputs": [
    {
     "name": "stdout",
     "output_type": "stream",
     "text": [
      "2\n"
     ]
    }
   ],
   "source": [
    "first_number = 1+1 # we gave avariable name first_number to store value 1+1 which is an expression\n",
    "print(first_number) # we dont need to call 1+1 again and again just call variable name"
   ]
  },
  {
   "cell_type": "markdown",
   "metadata": {},
   "source": [
    "**2.Variables are Dynamically Types**\n",
    "- we can change data type of the variable which was having other data type earlier\n"
   ]
  },
  {
   "cell_type": "code",
   "execution_count": 3,
   "metadata": {},
   "outputs": [
    {
     "data": {
      "text/plain": [
       "int"
      ]
     },
     "execution_count": 3,
     "metadata": {},
     "output_type": "execute_result"
    }
   ],
   "source": [
    "type(first_number)"
   ]
  },
  {
   "cell_type": "code",
   "execution_count": 4,
   "metadata": {},
   "outputs": [
    {
     "name": "stdout",
     "output_type": "stream",
     "text": [
      "hello\n"
     ]
    },
    {
     "data": {
      "text/plain": [
       "str"
      ]
     },
     "execution_count": 4,
     "metadata": {},
     "output_type": "execute_result"
    }
   ],
   "source": [
    "# Now we will change the same variable into other data type by assigning some value to it\n",
    "first_number = \"hello\" # we have rewritten the value in the variable\n",
    "print(first_number)\n",
    "type(first_number) # it is string now, So carfully enter names to variable"
   ]
  },
  {
   "cell_type": "markdown",
   "metadata": {},
   "source": [
    "**3. Learned Variables makes code lot easier**\n",
    "- Here we have combined to variables and put it in other variable total"
   ]
  },
  {
   "cell_type": "code",
   "execution_count": 5,
   "metadata": {},
   "outputs": [
    {
     "name": "stdout",
     "output_type": "stream",
     "text": [
      "39\n"
     ]
    }
   ],
   "source": [
    "second_number = 15+18\n",
    "third_number = 2+4\n",
    "\n",
    "total =  second_number + third_number\n",
    "print(total) "
   ]
  },
  {
   "cell_type": "markdown",
   "metadata": {},
   "source": [
    "**Things will be learnt**\n",
    "- type() funtion to check data type of variable\n",
    "- Variable name should be with underscore in between two words\n",
    "- Variables data type can be overlapped\n",
    "- We can combine two variable to form other variable (variable3 = variable1 + variable2)\n",
    "- print() funtion to show results\n",
    "- Integer and String data types"
   ]
  },
  {
   "cell_type": "markdown",
   "metadata": {},
   "source": [
    "# 2. Numbers"
   ]
  },
  {
   "cell_type": "markdown",
   "metadata": {},
   "source": [
    "**For all calculations we use Arthematic Operators**\n",
    "- Plus (Addition) , - (Substraction) ,  * (Multiplication) ,  / (Division)\n",
    "- If division done python gives float values\n",
    "- Modulo Function % gives remainder of a division\n",
    "\n",
    "**Order of operation**\n",
    "- BODMAS (Bracket, Order, Division, Multiplication, Addition, Substraction)\n",
    "- Write code accordingly to BODMAS cause python does its own way but not original human way"
   ]
  },
  {
   "cell_type": "code",
   "execution_count": 6,
   "metadata": {},
   "outputs": [
    {
     "data": {
      "text/plain": [
       "5"
      ]
     },
     "execution_count": 6,
     "metadata": {},
     "output_type": "execute_result"
    }
   ],
   "source": [
    "2+3"
   ]
  },
  {
   "cell_type": "code",
   "execution_count": 7,
   "metadata": {},
   "outputs": [
    {
     "data": {
      "text/plain": [
       "20"
      ]
     },
     "execution_count": 7,
     "metadata": {},
     "output_type": "execute_result"
    }
   ],
   "source": [
    "100 - 80"
   ]
  },
  {
   "cell_type": "code",
   "execution_count": 8,
   "metadata": {},
   "outputs": [
    {
     "data": {
      "text/plain": [
       "2.0"
      ]
     },
     "execution_count": 8,
     "metadata": {},
     "output_type": "execute_result"
    }
   ],
   "source": [
    "4 / 2"
   ]
  },
  {
   "cell_type": "code",
   "execution_count": 9,
   "metadata": {},
   "outputs": [
    {
     "data": {
      "text/plain": [
       "0.5"
      ]
     },
     "execution_count": 9,
     "metadata": {},
     "output_type": "execute_result"
    }
   ],
   "source": [
    "2 / 4"
   ]
  },
  {
   "cell_type": "markdown",
   "metadata": {},
   "source": [
    "**Check type of value with type() function**"
   ]
  },
  {
   "cell_type": "code",
   "execution_count": 10,
   "metadata": {},
   "outputs": [
    {
     "data": {
      "text/plain": [
       "float"
      ]
     },
     "execution_count": 10,
     "metadata": {},
     "output_type": "execute_result"
    }
   ],
   "source": [
    "type(0.5)"
   ]
  },
  {
   "cell_type": "code",
   "execution_count": 11,
   "metadata": {},
   "outputs": [
    {
     "data": {
      "text/plain": [
       "int"
      ]
     },
     "execution_count": 11,
     "metadata": {},
     "output_type": "execute_result"
    }
   ],
   "source": [
    "type (2)"
   ]
  },
  {
   "cell_type": "markdown",
   "metadata": {},
   "source": [
    "**Modulo Function**"
   ]
  },
  {
   "cell_type": "code",
   "execution_count": 12,
   "metadata": {},
   "outputs": [
    {
     "data": {
      "text/plain": [
       "2"
      ]
     },
     "execution_count": 12,
     "metadata": {},
     "output_type": "execute_result"
    }
   ],
   "source": [
    "5 % 3"
   ]
  },
  {
   "cell_type": "code",
   "execution_count": 13,
   "metadata": {},
   "outputs": [
    {
     "data": {
      "text/plain": [
       "0"
      ]
     },
     "execution_count": 13,
     "metadata": {},
     "output_type": "execute_result"
    }
   ],
   "source": [
    "10 % 2"
   ]
  },
  {
   "cell_type": "markdown",
   "metadata": {},
   "source": [
    "### Game of Health Postion\n",
    "- Import required module with \"Import\" command\n",
    "- Modules have many default functions in it, just put module name followed by .and function name\n",
    "- random.randint (module.function_name)\n",
    "- To change a whole number into interger also called as casting can be done by giving int(your value)"
   ]
  },
  {
   "cell_type": "code",
   "execution_count": 14,
   "metadata": {},
   "outputs": [
    {
     "name": "stdout",
     "output_type": "stream",
     "text": [
      "59\n"
     ]
    }
   ],
   "source": [
    "import random\n",
    "\n",
    "# put difficulty level, when we change difficulty level to 1, 2 or 3 which is easy, medium and difficulty\n",
    "difficulty = 3\n",
    "\n",
    "# give default health to the character\n",
    "health = 50\n",
    "\n",
    "# Creat random variables from 25 to 50 given to a variable\n",
    "potion_health = int(random.randint(25,50)/difficulty)\n",
    "\n",
    "# so finally changing the difficulty level \n",
    "health = health + potion_health\n",
    "\n",
    "# Print result\n",
    "print(health)\n",
    "\n",
    "# More the difficulty level more will be your health, just run and try changing difficulty levela and see the change"
   ]
  },
  {
   "cell_type": "markdown",
   "metadata": {},
   "source": [
    "### math Module\n",
    "- Math module in python has many advanced math functions like trignometry\n",
    "- Check to know more about the math module"
   ]
  },
  {
   "cell_type": "markdown",
   "metadata": {},
   "source": [
    "# Text\n",
    "- How to create strings with single quotes, double quotes and triple quotes\n",
    "- How to fix broken strings\n",
    "- How to write hello world program\n",
    "- Hello You Project\n",
    "- How to structure code with comments\n",
    "- How to take user input using input() function\n",
    "- String concatination and string formatting\n",
    "- How to work with incompatible data types like strings and numbers by converting from one data type to other\n",
    "- Some string methods\n",
    "- About slices\n",
    "- Email Slicer Project"
   ]
  },
  {
   "cell_type": "code",
   "execution_count": 2,
   "metadata": {},
   "outputs": [
    {
     "name": "stdout",
     "output_type": "stream",
     "text": [
      "<class 'str'>\n"
     ]
    }
   ],
   "source": [
    "name = \"hemanth\" # string should be quote\n",
    "print(type(name))# Result will be string class"
   ]
  },
  {
   "cell_type": "markdown",
   "metadata": {},
   "source": [
    "**If we have double quotes inside a string then by ending the whole string with single quote will make it a string**"
   ]
  },
  {
   "cell_type": "code",
   "execution_count": 7,
   "metadata": {},
   "outputs": [
    {
     "name": "stdout",
     "output_type": "stream",
     "text": [
      "hello how are you \" i am hemanth\" \n"
     ]
    },
    {
     "data": {
      "text/plain": [
       "str"
      ]
     },
     "execution_count": 7,
     "metadata": {},
     "output_type": "execute_result"
    }
   ],
   "source": [
    "message = 'hello how are you \" i am hemanth\" '\n",
    "print(message)\n",
    "type(message)"
   ]
  },
  {
   "cell_type": "markdown",
   "metadata": {},
   "source": [
    "**If we have a big sentence that as many lines then triple quotes will help in making all sentences into single string without breaking into sentences**"
   ]
  },
  {
   "cell_type": "code",
   "execution_count": 6,
   "metadata": {},
   "outputs": [
    {
     "name": "stdout",
     "output_type": "stream",
     "text": [
      "Half the year has flown by and that brings us to the \n",
      "June edition of our popular series – the top GitHub repositories and Reddit threads from last month. \n",
      "During the course of writing these articles, \n",
      "I have learned so much about machine learning from either open source codes or invaluable \n",
      "discussions among the top data science brains in the world.\n"
     ]
    },
    {
     "data": {
      "text/plain": [
       "str"
      ]
     },
     "execution_count": 6,
     "metadata": {},
     "output_type": "execute_result"
    }
   ],
   "source": [
    "text1 = \"\"\"Half the year has flown by and that brings us to the \n",
    "June edition of our popular series – the top GitHub repositories and Reddit threads from last month. \n",
    "During the course of writing these articles, \n",
    "I have learned so much about machine learning from either open source codes or invaluable \n",
    "discussions among the top data science brains in the world.\"\"\"\n",
    "\n",
    "print(text1) # Now the whole sentences in triple quote will be a single string\n",
    "type(text1)"
   ]
  },
  {
   "cell_type": "markdown",
   "metadata": {},
   "source": [
    "**Hello World Program**"
   ]
  },
  {
   "cell_type": "code",
   "execution_count": 8,
   "metadata": {
    "scrolled": true
   },
   "outputs": [
    {
     "name": "stdout",
     "output_type": "stream",
     "text": [
      "Hello World\n"
     ]
    }
   ],
   "source": [
    "hello = \"Hello World\"\n",
    "print(hello)"
   ]
  },
  {
   "cell_type": "markdown",
   "metadata": {},
   "source": [
    "**String Concatination and Formatting**\n",
    "- Addiing to strings\n",
    "- Formatting strings"
   ]
  },
  {
   "cell_type": "code",
   "execution_count": 11,
   "metadata": {},
   "outputs": [
    {
     "data": {
      "text/plain": [
       "'part onepart two'"
      ]
     },
     "execution_count": 11,
     "metadata": {},
     "output_type": "execute_result"
    }
   ],
   "source": [
    "a = \"part one\"\n",
    "b = \"part two\"\n",
    "\n",
    "# Add two strings by giving plus symbol\n",
    "a + b"
   ]
  },
  {
   "cell_type": "code",
   "execution_count": 10,
   "metadata": {
    "scrolled": true
   },
   "outputs": [
    {
     "data": {
      "text/plain": [
       "'===================='"
      ]
     },
     "execution_count": 10,
     "metadata": {},
     "output_type": "execute_result"
    }
   ],
   "source": [
    "\"=\" * 20"
   ]
  },
  {
   "cell_type": "code",
   "execution_count": 12,
   "metadata": {},
   "outputs": [
    {
     "ename": "TypeError",
     "evalue": "must be str, not int",
     "output_type": "error",
     "traceback": [
      "\u001b[1;31m---------------------------------------------------------------------------\u001b[0m",
      "\u001b[1;31mTypeError\u001b[0m                                 Traceback (most recent call last)",
      "\u001b[1;32m<ipython-input-12-8d3f76264ed3>\u001b[0m in \u001b[0;36m<module>\u001b[1;34m()\u001b[0m\n\u001b[0;32m      4\u001b[0m \u001b[1;33m\u001b[0m\u001b[0m\n\u001b[0;32m      5\u001b[0m \u001b[1;31m# Add two strings by giving plus symbol it will throw error\u001b[0m\u001b[1;33m\u001b[0m\u001b[1;33m\u001b[0m\u001b[0m\n\u001b[1;32m----> 6\u001b[1;33m \u001b[0ma\u001b[0m \u001b[1;33m+\u001b[0m \u001b[0mb\u001b[0m\u001b[1;33m\u001b[0m\u001b[0m\n\u001b[0m",
      "\u001b[1;31mTypeError\u001b[0m: must be str, not int"
     ]
    }
   ],
   "source": [
    "# Strings cannot take numbers into it\n",
    "a = \"part one\"\n",
    "b = 1\n",
    "\n",
    "# Add two strings by giving plus symbol it will throw error because it cannnot take number as string\n",
    "a + b"
   ]
  },
  {
   "cell_type": "code",
   "execution_count": 17,
   "metadata": {},
   "outputs": [
    {
     "data": {
      "text/plain": [
       "'1 part one'"
      ]
     },
     "execution_count": 17,
     "metadata": {},
     "output_type": "execute_result"
    }
   ],
   "source": [
    "# Hence we need to convert number into string\n",
    "a + str(b)\n",
    "\n",
    "# or\n",
    "# use formatting, just put bracket and tell what you want to put in that bracket\n",
    "\"{} {}\".format(a,b) # use format function and after that your values in those brackets\n",
    "\n",
    "\"{} {}\".format(b,a) # change however you want and what ever you want in brackets\n",
    "\n",
    "\"{1} {0}\".format(a,b) # we have two values a as zero and b as 1 and putting numbers will help which value should be in bracket\n"
   ]
  },
  {
   "cell_type": "markdown",
   "metadata": {},
   "source": [
    "### Hello World Project\n",
    "**Here we create a program which gathers user inputs and give a meaningful output or a message**\n",
    "\n",
    "1. Here we structure code with proper comments, write the steps as comments first and then fill them with code in each step, like\n",
    "\n",
    ". Ask user name\n",
    "\n",
    ". Ask user age\n",
    "\n",
    ". Ask user city\n",
    "\n",
    ". Ask user most liked dish\n",
    "\n",
    ". Create output text\n",
    "\n",
    ". Print output\n",
    "\n",
    "2. We take user input with input() functions\n",
    "- To check python buildin functions, help -> python docs -> index -> python standard library -> built in functions"
   ]
  },
  {
   "cell_type": "code",
   "execution_count": null,
   "metadata": {},
   "outputs": [],
   "source": [
    "# Ask user name\n",
    "name = input(\"what is your name?: \")\n",
    "\n",
    "# Ask user age\n",
    "age = input(\"what is your age?: \")\n",
    "\n",
    "# Ask user city\n",
    "city = input(\"what is your city?: \")\n",
    "\n",
    "# Ask user most liked dish\n",
    "dish = input(\"what is your favorite dish?: \")\n",
    "\n",
    "# Create output text\n",
    "output = \"your name is {} of age {} from {} and you love {}\".format(name,age,city,dish)\n",
    "\n",
    "# Print output\n",
    "print(output)"
   ]
  },
  {
   "cell_type": "markdown",
   "metadata": {},
   "source": [
    "**String Methods**\n",
    "- Just like our functions for length and other stuff\n",
    "- to count number of letters in word with count()\n",
    "- "
   ]
  },
  {
   "cell_type": "code",
   "execution_count": 22,
   "metadata": {},
   "outputs": [
    {
     "data": {
      "text/plain": [
       "True"
      ]
     },
     "execution_count": 22,
     "metadata": {},
     "output_type": "execute_result"
    }
   ],
   "source": [
    "word = \"hello hemanth varma\"\n",
    "word.count(\"h\") # how many times letter h occurs\n",
    "word.count(\"ma\") # how many times letter word ma occurs\n",
    "word.lower() # to make string lower case\n",
    "word.upper() # to make string upper case\n",
    "word.capitalize() # to make string capitalize that is first letter of word capital\n",
    "word.title() # to make first letter of word little bigger than others\n",
    "\n",
    "# To check if words are upper or lower or any other just put is to it\n",
    "word.islower()\n",
    "word.isupper()\n",
    "\"abcd\".isalpha()\n",
    "\"123\".isdigit()\n"
   ]
  },
  {
   "cell_type": "code",
   "execution_count": null,
   "metadata": {},
   "outputs": [],
   "source": []
  }
 ],
 "metadata": {
  "kernelspec": {
   "display_name": "Python 3",
   "language": "python",
   "name": "python3"
  },
  "language_info": {
   "codemirror_mode": {
    "name": "ipython",
    "version": 3
   },
   "file_extension": ".py",
   "mimetype": "text/x-python",
   "name": "python",
   "nbconvert_exporter": "python",
   "pygments_lexer": "ipython3",
   "version": "3.6.4"
  }
 },
 "nbformat": 4,
 "nbformat_minor": 2
}
